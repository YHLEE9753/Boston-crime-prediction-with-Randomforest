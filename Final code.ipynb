{
 "cells": [
  {
   "cell_type": "code",
   "execution_count": 122,
   "metadata": {},
   "outputs": [
    {
     "data": {
      "text/plain": [
       "YEAR                                               int64\n",
       "MONTH                                              int64\n",
       "DAY_OF_WEEK                                       object\n",
       "SHOOTING_Y                                         int64\n",
       "Low Temp (F)                                       int64\n",
       "High Humidity (%)                                  int64\n",
       "Low Humidity (%)                                   int64\n",
       "Avg Visibility (mi)                                int64\n",
       "CrimeGunsRecovered                                 int64\n",
       "GunsRecoveredSafeguard                           float64\n",
       "BuybackGunsRecovered                             float64\n",
       "Shooting_Type_V2_Non-Fatal                         int64\n",
       "Victim_Gender_Male                                 int64\n",
       "Victim_Race_Black or African American              int64\n",
       "Victim_Race_White                                  int64\n",
       "Victim_Ethnicity_NIBRS_Not Hispanic or Latinx      int64\n",
       "Multi_Victim_t                                     int64\n",
       "GEOID                                              int64\n",
       "P0020005                                           int64\n",
       "P0020006                                           int64\n",
       "P0020002                                           int64\n",
       "P0020008                                           int64\n",
       "P0020007                                           int64\n",
       "P0020009                                           int64\n",
       "P0020010                                           int64\n",
       "P0020011                                           int64\n",
       "final_count                                        int64\n",
       "dtype: object"
      ]
     },
     "execution_count": 122,
     "metadata": {},
     "output_type": "execute_result"
    }
   ],
   "source": [
    "# -*- coding: utf-8 -*-\n",
    "# real final\n",
    "import numpy as np\n",
    "import pandas as pd\n",
    "from sklearn.cluster import KMeans\n",
    "import matplotlib.pyplot as plt\n",
    "from scipy.stats import f_oneway\n",
    "from sklearn.model_selection import KFold\n",
    "from sklearn.model_selection import cross_val_score\n",
    "from sklearn.linear_model import LinearRegression,Ridge, Lasso, ElasticNet\n",
    "from sklearn.neighbors import KNeighborsRegressor\n",
    "from sklearn.metrics import mean_squared_error, r2_score\n",
    "import statsmodels.api as sm\n",
    "from sklearn.model_selection import train_test_split\n",
    "from sklearn import tree\n",
    "from sklearn.metrics import accuracy_score\n",
    "\n",
    "from sklearn.tree import DecisionTreeClassifier, export_graphviz\n",
    "\n",
    "\n",
    "\n",
    "crime = pd.read_csv('C:/Users/kwon/Desktop/final_merge2_crime(2).csv')\n",
    "list(crime)\n",
    "del_list = ['Unnamed: 0','Date','HOUR','Day','UCR_PART_Part One','Low Visibility (mi)','Avg Wind (mph)',\n",
    "            'High Wind Gust (mph)','Snowfall (in)','Precip (in)','P0020001']\n",
    "crime = crime.drop(del_list, axis = 1)\n",
    "crime.dtypes\n"
   ]
  },
  {
   "cell_type": "code",
   "execution_count": 123,
   "metadata": {},
   "outputs": [],
   "source": [
    "# vif 구하기\n",
    "def vif(df1_names,df1):\n",
    "    reg = LinearRegression()\n",
    "    \n",
    "    vif_name = []\n",
    "    vif_arr = []\n",
    "    \n",
    "    for name in df1_names:\n",
    "        templist = df1_names[:]\n",
    "        templist.remove(name)\n",
    "        p1 = templist\n",
    "        p2 = name\n",
    "        \n",
    "        reg.fit(df1[p1], df1[p2])\n",
    "        vif = 1/(1-reg.score(df1[p1], df1[p2]))\n",
    "        vif_name.append(name)\n",
    "        vif_arr.append(vif)\n",
    "    \n",
    "    # 출력\n",
    "    for i in range(len(vif_name)):\n",
    "        print(str(vif_name[i])+ \" - \" + str(vif_arr[i]))\n",
    "    \n",
    "    return vif_name, vif_arr"
   ]
  },
  {
   "cell_type": "code",
   "execution_count": 124,
   "metadata": {},
   "outputs": [
    {
     "name": "stderr",
     "output_type": "stream",
     "text": [
      "<ipython-input-124-dfa34dbcbecf>:15: SettingWithCopyWarning: \n",
      "A value is trying to be set on a copy of a slice from a DataFrame\n",
      "\n",
      "See the caveats in the documentation: https://pandas.pydata.org/pandas-docs/stable/user_guide/indexing.html#returning-a-view-versus-a-copy\n",
      "  crime['final_count'][i]=1\n"
     ]
    }
   ],
   "source": [
    "# # 최종\n",
    "# crime_model = crime[:]\n",
    "# catvar=['DAY_OF_WEEK']\n",
    "# list(crime_model)\n",
    "# for c in catvar:\n",
    "#     dummy = pd.get_dummies(crime_model[c], prefix=c, drop_first=True)\n",
    "#     crime_model = pd.concat((crime_model,dummy),axis=1)\n",
    "    \n",
    "# crime_model = crime_model.drop(catvar, axis = 1)\n",
    "\n",
    "\n",
    "# 발생, 미발생으로 값 변환\n",
    "for i in range(len(crime)):\n",
    "    if crime['final_count'][i]>=1:\n",
    "        crime['final_count'][i]=1\n",
    "        \n",
    "\n",
    "crime_model=crime\n",
    "# catvar=['DAY_OF_WEEK']\n",
    "# list(crime_model)\n",
    "# for c in catvar:\n",
    "#     dummy = pd.get_dummies(crime_model[c], prefix=c, drop_first=True)\n",
    "#     crime_model = pd.concat((crime_model,dummy),axis=1)\n",
    "    \n",
    "# crime_model = crime_model.drop(catvar, axis = 1)"
   ]
  },
  {
   "cell_type": "code",
   "execution_count": 125,
   "metadata": {},
   "outputs": [
    {
     "data": {
      "text/plain": [
       "0    86857\n",
       "1    22056\n",
       "Name: final_count, dtype: int64"
      ]
     },
     "execution_count": 125,
     "metadata": {},
     "output_type": "execute_result"
    }
   ],
   "source": [
    "crime_model['final_count'].value_counts()"
   ]
  },
  {
   "cell_type": "code",
   "execution_count": 126,
   "metadata": {},
   "outputs": [
    {
     "name": "stdout",
     "output_type": "stream",
     "text": [
      "trainX shape: (102457, 23)\n",
      "testX shape: (6456, 23)\n",
      "trainY shape: (102457,)\n",
      "testY shape: (6456,)\n"
     ]
    }
   ],
   "source": [
    "trainX = crime_model[crime_model['YEAR']<=2017]\n",
    "trainY = trainX['final_count']\n",
    "trainX = trainX.drop(['final_count','YEAR','MONTH','DAY_OF_WEEK'],axis=1)\n",
    "\n",
    "\n",
    "testX=crime_model[crime_model['YEAR']>2017]\n",
    "testY = testX['final_count']\n",
    "testX = testX.drop(['final_count','YEAR','MONTH','DAY_OF_WEEK'],axis=1)\n",
    "\n",
    "\n",
    "print('trainX shape:', trainX.shape)\n",
    "print('testX shape:', testX.shape)\n",
    "print('trainY shape:', trainY.shape)\n",
    "print('testY shape:', testY.shape)"
   ]
  },
  {
   "cell_type": "code",
   "execution_count": 127,
   "metadata": {},
   "outputs": [
    {
     "data": {
      "text/plain": [
       "0    5301\n",
       "1    1155\n",
       "Name: final_count, dtype: int64"
      ]
     },
     "execution_count": 127,
     "metadata": {},
     "output_type": "execute_result"
    }
   ],
   "source": [
    "testY.value_counts()"
   ]
  },
  {
   "cell_type": "code",
   "execution_count": 128,
   "metadata": {},
   "outputs": [
    {
     "name": "stdout",
     "output_type": "stream",
     "text": [
      "Decision Tree Accuracy: 0.8127\n",
      "cv_score: 0.7802008666812152\n"
     ]
    }
   ],
   "source": [
    "# Decision tree\n",
    "clf = tree.DecisionTreeClassifier(criterion='entropy', max_depth=10, random_state=0)\n",
    "clf.fit(trainX, trainY)\n",
    "y_pred_tr = clf.predict(testX)\n",
    "print('Decision Tree Accuracy: %.4f' % accuracy_score(testY, y_pred_tr))\n",
    "\n",
    "scores = cross_val_score(clf, testX, testY, cv=5).mean()\n",
    "print(\"cv_score:\",scores)"
   ]
  },
  {
   "cell_type": "code",
   "execution_count": 129,
   "metadata": {},
   "outputs": [
    {
     "name": "stdout",
     "output_type": "stream",
     "text": [
      "Model accuracy score with RandomForest : 0.8130\n",
      "cv_score: 0.7975507982148382\n"
     ]
    }
   ],
   "source": [
    "# 랜덤 포레스트\n",
    "from sklearn.ensemble import RandomForestClassifier\n",
    "from sklearn.ensemble import RandomForestClassifier\n",
    "\n",
    "# instantiate the classifier \n",
    "rfc = RandomForestClassifier(random_state=0)\n",
    "rfc.fit(trainX, trainY)\n",
    "y_pred = rfc.predict(testX)\n",
    "print('Model accuracy score with RandomForest : {0:0.4f}'. \n",
    "      format(accuracy_score(testY, y_pred)))\n",
    "\n",
    "scores = cross_val_score(rfc, testX, testY, cv=5).mean()\n",
    "print(\"cv_score:\",scores)"
   ]
  },
  {
   "cell_type": "code",
   "execution_count": 130,
   "metadata": {},
   "outputs": [
    {
     "name": "stdout",
     "output_type": "stream",
     "text": [
      "최적 하이퍼 파라미터:  {'max_depth': 6, 'min_samples_leaf': 8, 'min_samples_split': 20, 'n_estimators': 10}\n",
      "최고 예측 정확도: 0.7984\n"
     ]
    }
   ],
   "source": [
    "# 하이퍼 파라미터 선정\n",
    "from sklearn.model_selection import GridSearchCV\n",
    "\n",
    "params = { 'n_estimators' : [10, 100],\n",
    "           'max_depth' : [6, 8, 10, 12],\n",
    "           'min_samples_leaf' : [8, 12, 18],\n",
    "           'min_samples_split' : [8, 16, 20]\n",
    "            }\n",
    "\n",
    "# RandomForestClassifier 객체 생성 후 GridSearchCV 수행\n",
    "rf_clf = RandomForestClassifier(random_state = 0, n_jobs = -1)\n",
    "grid_cv = GridSearchCV(rf_clf, param_grid = params, cv = 3, n_jobs = -1)\n",
    "grid_cv.fit(trainX, trainY)\n",
    "\n",
    "print('최적 하이퍼 파라미터: ', grid_cv.best_params_)\n",
    "print('최고 예측 정확도: {:.4f}'.format(grid_cv.best_score_))"
   ]
  },
  {
   "cell_type": "code",
   "execution_count": 131,
   "metadata": {},
   "outputs": [
    {
     "name": "stdout",
     "output_type": "stream",
     "text": [
      "예측 정확도: 0.8130\n"
     ]
    }
   ],
   "source": [
    "#위의 결과로 나온 최적 하이퍼 파라미터로 다시 모델을 학습하여 테스트 세트 데이터에서 예측 성능을 측정\n",
    "rf_clf1 = RandomForestClassifier(n_estimators = 100, \n",
    "                                max_depth = 6,\n",
    "                                min_samples_leaf = 12,\n",
    "                                min_samples_split = 8,\n",
    "                                random_state = 0,\n",
    "                                n_jobs = -1)\n",
    "rf_clf1.fit(trainX, trainY)\n",
    "pred = rf_clf1.predict(testX)\n",
    "print('예측 정확도: {:.4f}'.format(accuracy_score(testY,y_pred)))"
   ]
  },
  {
   "cell_type": "code",
   "execution_count": 132,
   "metadata": {},
   "outputs": [
    {
     "data": {
      "image/png": "[encoded data removed]",
      "text/plain": [
       "<Figure size 576x432 with 1 Axes>"
      ]
     },
     "metadata": {
      "needs_background": "light"
     },
     "output_type": "display_data"
    }
   ],
   "source": [
    "# feauture 중요도선정\n",
    "import matplotlib.pyplot as plt\n",
    "import seaborn as sns\n",
    "%matplotlib inline\n",
    "\n",
    "ftr_importances_values = rf_clf1.feature_importances_\n",
    "ftr_importances = pd.Series(ftr_importances_values, index = trainX.columns)\n",
    "ftr_top20 = ftr_importances.sort_values(ascending=False)[:20]\n",
    "\n",
    "plt.figure(figsize=(8,6))\n",
    "plt.title('Top 20 Feature Importances')\n",
    "sns.barplot(x=ftr_top20, y=ftr_top20.index)\n",
    "plt.show()"
   ]
  },
  {
   "cell_type": "code",
   "execution_count": 133,
   "metadata": {},
   "outputs": [
    {
     "name": "stdout",
     "output_type": "stream",
     "text": [
      "0.779275092936803\n",
      "cv_score: 0.785467022228191\n"
     ]
    }
   ],
   "source": [
    "from sklearn import datasets\n",
    "from sklearn.neighbors import KNeighborsClassifier, KNeighborsRegressor\n",
    "from sklearn.model_selection import train_test_split\n",
    "\n",
    "knn_clf=KNeighborsClassifier(n_neighbors=2)\n",
    "knn_clf.fit(trainX, trainY)\n",
    "\n",
    "y_pred_knn=knn_clf.predict(testX)\n",
    "\n",
    "print(knn_clf.score(testX,testY)) #calculate accuracy of test data sets. (compare y_pred and ysts)\n",
    "\n",
    "scores = cross_val_score(knn_clf, testX, testY, cv=5).mean()\n",
    "print(\"cv_score:\",scores)"
   ]
  },
  {
   "cell_type": "code",
   "execution_count": 134,
   "metadata": {},
   "outputs": [
    {
     "name": "stdout",
     "output_type": "stream",
     "text": [
      "              precision    recall  f1-score   support\n",
      "\n",
      "           0       0.83      0.97      0.89      5301\n",
      "           1       0.41      0.11      0.17      1155\n",
      "\n",
      "    accuracy                           0.81      6456\n",
      "   macro avg       0.62      0.54      0.53      6456\n",
      "weighted avg       0.76      0.81      0.77      6456\n",
      "\n",
      "              precision    recall  f1-score   support\n",
      "\n",
      "           0       0.82      0.93      0.87      5301\n",
      "           1       0.22      0.10      0.13      1155\n",
      "\n",
      "    accuracy                           0.78      6456\n",
      "   macro avg       0.52      0.51      0.50      6456\n",
      "weighted avg       0.72      0.78      0.74      6456\n",
      "\n"
     ]
    }
   ],
   "source": [
    "from sklearn.metrics import classification_report\n",
    "\n",
    "print(classification_report(testY, y_pred))\n",
    "print(classification_report(testY, y_pred_knn))"
   ]
  },
  {
   "cell_type": "code",
   "execution_count": 135,
   "metadata": {},
   "outputs": [
    {
     "data": {
      "text/plain": [
       "Text(0.5, 1.0, 'Confusion Matrix')"
      ]
     },
     "execution_count": 135,
     "metadata": {},
     "output_type": "execute_result"
    },
    {
     "data": {
      "image/png": "[encoded data removed]",
      "text/plain": [
       "<Figure size 432x288 with 2 Axes>"
      ]
     },
     "metadata": {
      "needs_background": "light"
     },
     "output_type": "display_data"
    }
   ],
   "source": [
    "from sklearn.metrics import confusion_matrix, plot_confusion_matrix\n",
    "import matplotlib.pyplot as plt\n",
    "\n",
    "label=['0','1'] # 라벨 설정\n",
    "plot = plot_confusion_matrix(clf, # 분류 모델\n",
    "                             testX, testY, # 예측 데이터와 예측값의 정답(y_true)\n",
    "                             display_labels=label, # 표에 표시할 labels\n",
    "                             cmap=plt.cm.Reds,# 컬러맵(plt.cm.Reds, plt.cm.rainbow 등이 있음)\n",
    "                             normalize=None) # 'true', 'pred', 'all' 중에서 지정 가능. default=None\n",
    "plot.ax_.set_title('Confusion Matrix')"
   ]
  },
  {
   "cell_type": "code",
   "execution_count": 136,
   "metadata": {},
   "outputs": [
    {
     "data": {
      "text/plain": [
       "Text(0.5, 1.0, 'Confusion Matrix')"
      ]
     },
     "execution_count": 136,
     "metadata": {},
     "output_type": "execute_result"
    },
    {
     "data": {
      "image/png": "[encoded data removed]",
      "text/plain": [
       "<Figure size 432x288 with 2 Axes>"
      ]
     },
     "metadata": {
      "needs_background": "light"
     },
     "output_type": "display_data"
    }
   ],
   "source": [
    "label=['0','1'] # 라벨 설정\n",
    "plot = plot_confusion_matrix(rfc, # 분류 모델\n",
    "                             testX, testY, # 예측 데이터와 예측값의 정답(y_true)\n",
    "                             display_labels=label, # 표에 표시할 labels\n",
    "                             cmap=plt.cm.Reds,# 컬러맵(plt.cm.Reds, plt.cm.rainbow 등이 있음)\n",
    "                             normalize=None) # 'true', 'pred', 'all' 중에서 지정 가능. default=None\n",
    "plot.ax_.set_title('Confusion Matrix')"
   ]
  },
  {
   "cell_type": "code",
   "execution_count": 137,
   "metadata": {},
   "outputs": [
    {
     "data": {
      "text/plain": [
       "Text(0.5, 1.0, 'Confusion Matrix')"
      ]
     },
     "execution_count": 137,
     "metadata": {},
     "output_type": "execute_result"
    },
    {
     "data": {
      "image/png": "[encoded data removed]",
      "text/plain": [
       "<Figure size 432x288 with 2 Axes>"
      ]
     },
     "metadata": {
      "needs_background": "light"
     },
     "output_type": "display_data"
    }
   ],
   "source": [
    "label=['0','1'] # 라벨 설정\n",
    "plot = plot_confusion_matrix(knn_clf, # 분류 모델\n",
    "                             testX, testY, # 예측 데이터와 예측값의 정답(y_true)\n",
    "                             display_labels=label, # 표에 표시할 labels\n",
    "                     cmap=plt.cm.Reds,# 컬러맵(plt.cm.Reds, plt.cm.rainbow 등이 있음)\n",
    "                             normalize=None) # 'true', 'pred', 'all' 중에서 지정 가능. default=None\n",
    "plot.ax_.set_title('Confusion Matrix')"
   ]
  },
  {
   "cell_type": "code",
   "execution_count": null,
   "metadata": {},
   "outputs": [],
   "source": [
    "from sklearn.linear_model import LogisticRegression\n",
    "\n",
    "logi = LogisticRegression(random_state=0).fit(trainX, trainY)\n",
    "y_pred_logi=logi.predict(testX)\n",
    "logi.score(testX,testY)\n",
    "\n",
    "scores = cross_val_score(logi, testX, testY, cv=5).mean()\n",
    "print(\"cv_score:\",scores)"
   ]
  },
  {
   "cell_type": "code",
   "execution_count": null,
   "metadata": {},
   "outputs": [],
   "source": [
    "print(classification_report(testY, y_pred_logi))"
   ]
  },
  {
   "cell_type": "code",
   "execution_count": null,
   "metadata": {},
   "outputs": [],
   "source": [
    "label=['0','1'] # 라벨 설정\n",
    "plot = plot_confusion_matrix(logi, # 분류 모델\n",
    "                             testX, testY, # 예측 데이터와 예측값의 정답(y_true)\n",
    "                             display_labels=label, # 표에 표시할 labels\n",
    "                     cmap=plt.cm.Reds,# 컬러맵(plt.cm.Reds, plt.cm.rainbow 등이 있음)\n",
    "                             normalize=None) # 'true', 'pred', 'all' 중에서 지정 가능. default=None\n",
    "plot.ax_.set_title('Confusion Matrix')"
   ]
  }
 ],
 "metadata": {
  "kernelspec": {
   "display_name": "Python 3",
   "language": "python",
   "name": "python3"
  },
  "language_info": {
   "codemirror_mode": {
    "name": "ipython",
    "version": 3
   },
   "file_extension": ".py",
   "mimetype": "text/x-python",
   "name": "python",
   "nbconvert_exporter": "python",
   "pygments_lexer": "ipython3",
   "version": "3.8.5"
  }
 },
 "nbformat": 4,
 "nbformat_minor": 4
}
